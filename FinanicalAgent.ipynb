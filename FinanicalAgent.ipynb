{
  "cells": [
    {
      "cell_type": "code",
      "execution_count": null,
      "metadata": {
        "id": "fi5Hkq2u3h8F"
      },
      "outputs": [],
      "source": [
        "!pip install langchain langchain-community langchain-core langchain-groq faiss-cpu sentence-transformers docling"
      ]
    },
    {
      "cell_type": "code",
      "execution_count": 1,
      "metadata": {
        "id": "4laVtCm93h-m"
      },
      "outputs": [
        {
          "name": "stderr",
          "output_type": "stream",
          "text": [
            "c:\\Users\\91830\\anaconda3\\Lib\\site-packages\\pydantic\\_internal\\_fields.py:161: UserWarning: Field \"model_path\" has conflict with protected namespace \"model_\".\n",
            "\n",
            "You may be able to resolve this warning by setting `model_config['protected_namespaces'] = ()`.\n",
            "  warnings.warn(\n",
            "c:\\Users\\91830\\anaconda3\\Lib\\site-packages\\pydantic\\_internal\\_fields.py:161: UserWarning: Field \"model_spec\" has conflict with protected namespace \"model_\".\n",
            "\n",
            "You may be able to resolve this warning by setting `model_config['protected_namespaces'] = ()`.\n",
            "  warnings.warn(\n"
          ]
        }
      ],
      "source": [
        "import os\n",
        "import warnings\n",
        "from docling.document_converter import DocumentConverter\n",
        "from pathlib import Path\n",
        "from langchain_text_splitters import MarkdownHeaderTextSplitter\n",
        "from langchain_community.embeddings import HuggingFaceEmbeddings\n",
        "import faiss\n",
        "from langchain_community.vectorstores import FAISS\n",
        "from langchain_community.docstore.in_memory import InMemoryDocstore\n",
        "from langchain import hub\n",
        "from langchain_core.output_parsers import StrOutputParser\n",
        "from langchain_core.runnables import RunnablePassthrough\n",
        "from langchain_core.prompts import ChatPromptTemplate\n",
        "from langchain_groq import ChatGroq"
      ]
    },
    {
      "cell_type": "code",
      "execution_count": 5,
      "metadata": {},
      "outputs": [],
      "source": [
        "\n",
        "os.environ[\"HF_HUB_DISABLE_SYMLINKS_WARNING\"] = \"1\"\n"
      ]
    },
    {
      "cell_type": "code",
      "execution_count": 6,
      "metadata": {
        "colab": {
          "background_save": true
        },
        "id": "X8u38auD3iBj"
      },
      "outputs": [],
      "source": [
        "# Document conversion\n",
        "def load_and_convert_document(file_path):\n",
        "    converter = DocumentConverter()\n",
        "    result = converter.convert(file_path)\n",
        "    return result.document.export_to_markdown()\n",
        "\n",
        "source = \"amazon-10-q-q3-2024.pdf\"\n",
        "markdown_content = load_and_convert_document(source)"
      ]
    },
    {
      "cell_type": "code",
      "execution_count": 7,
      "metadata": {
        "id": "duYWViPx3vXl"
      },
      "outputs": [],
      "source": [
        "# Splitting markdown content into chunks\n",
        "def get_markdown_splits(markdown_content):\n",
        "    headers_to_split_on = [(\"#\", \"Header 1\"), (\"##\", \"Header 2\"), (\"###\", \"Header 3\")]\n",
        "    markdown_splitter = MarkdownHeaderTextSplitter(headers_to_split_on, strip_headers=False)\n",
        "    return markdown_splitter.split_text(markdown_content)\n",
        "chunks = get_markdown_splits(markdown_content)"
      ]
    },
    {
      "cell_type": "code",
      "execution_count": 8,
      "metadata": {
        "id": "eg0iYheq3xj7"
      },
      "outputs": [
        {
          "name": "stderr",
          "output_type": "stream",
          "text": [
            "C:\\Users\\91830\\AppData\\Local\\Temp\\ipykernel_21372\\2914140663.py:3: LangChainDeprecationWarning: The class `HuggingFaceEmbeddings` was deprecated in LangChain 0.2.2 and will be removed in 1.0. An updated version of the class exists in the :class:`~langchain-huggingface package and should be used instead. To use it run `pip install -U :class:`~langchain-huggingface` and import as `from :class:`~langchain_huggingface import HuggingFaceEmbeddings``.\n",
            "  embeddings = HuggingFaceEmbeddings(model_name=\"sentence-transformers/all-MiniLM-L6-v2\")\n"
          ]
        }
      ],
      "source": [
        "# Embedding and vector store setup\n",
        "def setup_vector_store(chunks):\n",
        "    embeddings = HuggingFaceEmbeddings(model_name=\"sentence-transformers/all-MiniLM-L6-v2\")\n",
        "    single_vector = embeddings.embed_query(\"this is some text data\")\n",
        "    index = faiss.IndexFlatL2(len(single_vector))\n",
        "    vector_store = FAISS(\n",
        "        embedding_function=embeddings,\n",
        "        index=index,\n",
        "        docstore=InMemoryDocstore(),\n",
        "        index_to_docstore_id={}\n",
        "    )\n",
        "    vector_store.add_documents(documents=chunks)\n",
        "    return vector_store\n",
        "\n",
        "vector_store = setup_vector_store(chunks)\n",
        "\n",
        "# Setup retriever\n",
        "retriever = vector_store.as_retriever(search_type=\"mmr\", search_kwargs={'k': 3})"
      ]
    },
    {
      "cell_type": "code",
      "execution_count": 9,
      "metadata": {
        "id": "66kEOzdD3zhV"
      },
      "outputs": [],
      "source": [
        "# Formatting documents for RAG\n",
        "def format_docs(docs):\n",
        "    return \"\\n\\n\".join([doc.page_content for doc in docs])"
      ]
    },
    {
      "cell_type": "code",
      "execution_count": null,
      "metadata": {
        "id": "5PuERiLC31SG"
      },
      "outputs": [],
      "source": [
        "# Setting up the RAG chain\n",
        "def create_rag_chain(retriever):\n",
        "    prompt = \"\"\"\n",
        "        You are an assistant for question-answering tasks. Use the following pieces of retrieved context to answer the question.\n",
        "        If you don't know the answer, just say that you don't know.\n",
        "        Answer in bullet points. Make sure your answer is relevant to the question and it is answered from the context only.\n",
        "        Question: {question}\n",
        "        Context: {context}\n",
        "        Answer:\n",
        "    \"\"\"\n",
        "    model = ChatGroq(model_name=\"llama3-8b-8192\", api_key = \"\")  # ✅ Choose a Groq-supported model\n",
        "    prompt_template = ChatPromptTemplate.from_template(prompt)\n",
        "    return (\n",
        "        {\"context\": retriever | format_docs, \"question\": RunnablePassthrough()}\n",
        "        | prompt_template\n",
        "        | model\n",
        "        | StrOutputParser()\n",
        "    )"
      ]
    },
    {
      "cell_type": "code",
      "execution_count": 14,
      "metadata": {
        "id": "lcyhw7f6_72z"
      },
      "outputs": [
        {
          "name": "stdout",
          "output_type": "stream",
          "text": [
            "Question: What was Amazon’s total revenue in Q3 2024?\n",
            "Here is the answer to the question:\n",
            "\n",
            "* The context does not provide Amazon's total revenue in Q3 2024. The information provided only discusses unearned revenue, performance obligations, and forward-looking statements, but does not provide the specific revenue figure for Q3 2024.\n",
            "* Therefore, I don't know the answer to this question.\n",
            "--------------------------------------------------\n",
            "\n",
            "Question: How does the revenue in Q3 2024 compare to Q3 2023?\n",
            "Here's the answer to the question based on the provided context:\n",
            "\n",
            "• The context does not provide a direct comparison of Q3 2024 revenue to Q3 2023. The guidance only provides a range for Q4 2024 revenue, which is expected to be between $181.5 billion and $188.5 billion, or a growth of 7% to 11% compared to Q4 2023. However, it does not provide a specific figure for Q3 2024 revenue or a direct comparison to Q3 2023 revenue.\n",
            "--------------------------------------------------\n",
            "\n",
            "Question: What was the net income for Q3 2024, and how does it compare year over year?\n",
            "Here is the answer to the question:\n",
            "\n",
            "• The net income for Q3 2024 was $15,328 million.\n",
            "• Compared year over year, the net income for Q3 2024 increased by $5,449 million from $9,879 million in Q3 2023.\n",
            "--------------------------------------------------\n",
            "\n",
            "Question: What were the earnings per share (basic and diluted) in Q3 2024?\n",
            "Here is the answer to your question in bullet points:\n",
            "\n",
            "• The earnings per share (EPS) information is not provided in the given context for Q3 2024.\n",
            "• The context only provides information on the calculation of EPS, the guidance for Q4 2024, and the consolidated balance sheet as of December 31, 2023, and September 30, 2024 (unaudited).\n",
            "• Therefore, I don't have the information to answer the question about earnings per share (basic and diluted) in Q3 2024.\n",
            "--------------------------------------------------\n",
            "\n",
            "Question: How much did Amazon earn from product vs. service sales?\n",
            "Here are the answers to the question in bullet points:\n",
            "\n",
            "• The context does not provide a direct answer to the question of how much Amazon earned from product vs. service sales. However, it does provide information on the breakdown of net sales by category:\n",
            "\t+ Product sales (North America and International) make up the majority of net sales, but the exact percentage is not provided.\n",
            "\t+ Service sales (AWS, advertising services, Amazon Prime membership fees, and certain digital media content subscriptions) are also included in net sales, but the exact percentage is not provided.\n",
            "• The context does provide information on the growth rates of net sales, but it does not provide a breakdown of the growth rates by product vs. service sales.\n",
            "• The context does not provide any information on the earnings of Amazon, only on its net sales.\n",
            "--------------------------------------------------\n",
            "\n",
            "Question: What were the main operating expense categories and their values in Q3 2024?\n",
            "Here is the answer to the question in bullet points:\n",
            "\n",
            "• There is no mention of main operating expense categories and their values in Q3 2024 in the provided context.\n",
            "• The provided context only discusses the Other Operating Expense (Income), Net, which was $244 million and $262 million for Q3 2023 and Q3 2024, respectively.\n",
            "• The context does not provide information on other operating expense categories and their values for Q3 2024.\n",
            "\n",
            "Note: I don't know the answer to this question as it is not present in the provided context.\n",
            "--------------------------------------------------\n",
            "\n",
            "Question: What was Amazon’s operating income in Q3 2024?\n",
            "Here is the answer to the question in bullet points:\n",
            "\n",
            "• The operating income for Q3 2024 is $5,663 million.\n",
            "• The operating income for Q3 2023 is $4,307 million.\n",
            "\n",
            "Note: The context provided does not include the operating income for Q3 2024 specifically, but it does provide the operating income for Q3 2024 for the AWS segment ($10,447 million).\n",
            "--------------------------------------------------\n",
            "\n"
          ]
        }
      ],
      "source": [
        "# Create RAG chain\n",
        "rag_chain = create_rag_chain(retriever)\n",
        "\n",
        "questions = [\n",
        "    \"What was Amazon’s total revenue in Q3 2024?\",\n",
        "    \"How does the revenue in Q3 2024 compare to Q3 2023?\",\n",
        "    \"What was the net income for Q3 2024, and how does it compare year over year?\",\n",
        "    \"What were the earnings per share (basic and diluted) in Q3 2024?\",\n",
        "    \"How much did Amazon earn from product vs. service sales?\",\n",
        "    \"What were the main operating expense categories and their values in Q3 2024?\",\n",
        "    \"What was Amazon’s operating income in Q3 2024?\",\n",
        "    ]\n",
        "\n",
        "\n",
        "for question in questions:\n",
        "      print(f\"Question: {question}\")\n",
        "      for chunk in rag_chain.stream(question):\n",
        "          print(chunk, end=\"\", flush=True)\n",
        "      print(\"\\n\" + \"-\" * 50 + \"\\n\")"
      ]
    },
    {
      "cell_type": "code",
      "execution_count": 17,
      "metadata": {
        "colab": {
          "base_uri": "https://localhost:8080/",
          "height": 515
        },
        "id": "sv6X3pM-39SM",
        "outputId": "e367314b-a69b-4b1c-f565-78ab4cfa6593"
      },
      "outputs": [
        {
          "name": "stdout",
          "output_type": "stream",
          "text": [
            "Question: What was Amazon’s total revenue in Q3 2024?\n",
            "Here is the answer to the question:\n",
            "\n",
            "* The revenue data provided in the context only refers to unearned revenue and performance obligations, but not total revenue for Q3 2024.\n",
            "* The total unearned revenue as of December 31, 2023 was $20.9 billion, and $12.5 billion was recognized as revenue during the nine months ended September 30, 2024.\n",
            "* However, the total revenue for Q3 2024 is not provided in the context.\n",
            "\n",
            "I don't know the answer to the question about Amazon's total revenue in Q3 2024.\n",
            "--------------------------------------------------\n",
            "\n",
            "Question: How does the revenue in Q3 2024 compare to Q3 2023?\n",
            "Here is the answer to the question in bullet points:\n",
            "\n",
            "• The context does not provide direct information on the revenue in Q3 2024 compared to Q3 2023. The context only provides guidance for the fourth quarter of 2024, which does not specify Q3 specifically.\n",
            "• However, the guidance mentioned that net sales are expected to grow between 7% and 11% in the fourth quarter of 2024 compared to the fourth quarter of 2023.\n",
            "• Unfortunately, this information does not allow us to determine the revenue comparison between Q3 2024 and Q3 2023 specifically.\n",
            "--------------------------------------------------\n",
            "\n",
            "Question: What was the net income for Q3 2024, and how does it compare year over year?\n",
            "Here is the answer to the question:\n",
            "\n",
            "* The net income for Q3 2024 was $15,328 million.\n",
            "* Compared year over year, the net income for Q3 2024 is higher than the net income for Q3 2023, which was $9,879 million.\n",
            "--------------------------------------------------\n",
            "\n",
            "Question: What were the earnings per share (basic and diluted) in Q3 2024?\n",
            "Here are the answers to the question in bullet points:\n",
            "\n",
            "* The context does not provide the earnings per share (basic and diluted) for Q3 2024.\n",
            "* The context only provides information about previous periods, such as Q3 2023 and Q4 2023, as well as guidance for Q4 2024, but not actual earnings per share for Q3 2024.\n",
            "* Therefore, I don't know the answer to this question.\n",
            "--------------------------------------------------\n",
            "\n",
            "Question: How much did Amazon earn from product vs. service sales?\n",
            "Here are the answers to the question in bullet points:\n",
            "\n",
            "• The context does not provide a direct answer to the question of how much Amazon earned from product vs. service sales.\n",
            "• However, it provides information on Net Sales, which includes both product and service sales.\n",
            "• The table shows the breakdown of Net Sales into North America, International, AWS, and Consolidated, but it does not separate product sales from service sales.\n",
            "• The context provides some information on the composition of Net Sales, including the percentage of sales by region and category, but it does not provide a direct answer to the question.\n",
            "--------------------------------------------------\n",
            "\n",
            "Question: What were the main operating expense categories and their values in Q3 2024?\n",
            "Here are the main operating expense categories and their values in Q3 2024 mentioned in the provided context:\n",
            "\n",
            "* Other operating expense (income), net: $244 million\n",
            "--------------------------------------------------\n",
            "\n",
            "Question: What was Amazon’s operating income in Q3 2024?\n",
            "Here is the answer to the question in bullet points:\n",
            "\n",
            "• Amazon's operating income in Q3 2024 was $17,411 million.\n",
            "• The context does not provide the exact operating income for Q3 2024, but it does provide the operating income for the AWS segment, which was $10,447 million.\n",
            "• The context does not provide the exact operating income for Q3 2024, but it does provide the operating income for the consolidated company, which was $17,411 million.\n",
            "--------------------------------------------------\n",
            "\n"
          ]
        }
      ],
      "source": [
        "# Main execution logic\n",
        "if __name__ == \"__main__\":\n",
        "    # Load document\n",
        "    source = \"amazon-10-q-q3-2024.pdf\"\n",
        "    markdown_content = load_and_convert_document(source)\n",
        "    chunks = get_markdown_splits(markdown_content)\n",
        "\n",
        "    # Create vector store\n",
        "    vector_store = setup_vector_store(chunks)\n",
        "\n",
        "    # Setup retriever\n",
        "    retriever = vector_store.as_retriever(search_type=\"mmr\", search_kwargs={'k': 3})\n",
        "\n",
        "    # Create RAG chain\n",
        "    rag_chain = create_rag_chain(retriever)\n",
        "\n",
        "    # Questions for retrieval\n",
        "    # Questions for retrieval (Amazon-specific)\n",
        "    questions = [\n",
        "    # Financial Performance\n",
        "    \"What was Amazon’s total revenue in Q3 2024?\",\n",
        "    \"How does the revenue in Q3 2024 compare to Q3 2023?\",\n",
        "    \"What was the net income for Q3 2024, and how does it compare year over year?\",\n",
        "    \"What were the earnings per share (basic and diluted) in Q3 2024?\",\n",
        "    \"How much did Amazon earn from product vs. service sales?\",\n",
        "    \"What were the main operating expense categories and their values in Q3 2024?\",\n",
        "    \"What was Amazon’s operating income in Q3 2024?\",\n",
        "    ]\n",
        "\n",
        "\n",
        "\n",
        "    # Answer questions\n",
        "    for question in questions:\n",
        "        print(f\"Question: {question}\")\n",
        "        for chunk in rag_chain.stream(question):\n",
        "            print(chunk, end=\"\", flush=True)\n",
        "        print(\"\\n\" + \"-\" * 50 + \"\\n\")\n"
      ]
    },
    {
      "cell_type": "code",
      "execution_count": null,
      "metadata": {
        "id": "tnIOIgTA4lQp"
      },
      "outputs": [],
      "source": [
        "import gradio as gr\n",
        "\n",
        "# Global variable to store vector store and RAG chain after file upload\n",
        "vector_store = None\n",
        "rag_chain = None\n",
        "\n",
        "def upload_and_process(file):\n",
        "    global vector_store, rag_chain\n",
        "    file_path = file.name\n",
        "    markdown_content = load_and_convert_document(file_path)\n",
        "    chunks = get_markdown_splits(markdown_content)\n",
        "    vector_store = setup_vector_store(chunks)\n",
        "    retriever = vector_store.as_retriever(search_type=\"mmr\", search_kwargs={'k': 3})\n",
        "    rag_chain = create_rag_chain(retriever)\n",
        "    return \"✅ Document processed and RAG chain created. You can now ask questions.\"\n",
        "\n",
        "def ask_question(question):\n",
        "    if rag_chain is None:\n",
        "        return \"❌ Please upload and process a document first.\"\n",
        "    response = \"\"\n",
        "    for chunk in rag_chain.stream(question):\n",
        "        response += chunk\n",
        "    return response\n",
        "\n",
        "# Launch Gradio interface\n",
        "with gr.Blocks() as demo:\n",
        "    gr.Markdown(\"## 📊 Amazon 10-Q RAG-Based QA System using Groq + FAISS\")\n",
        "\n",
        "    with gr.Row():\n",
        "        with gr.Column():\n",
        "            file_input = gr.File(label=\"📁 Upload Amazon 10-Q PDF\", file_types=[\".pdf\"])\n",
        "            upload_btn = gr.Button(\"🔄 Upload & Process\")\n",
        "            upload_output = gr.Textbox(label=\"Processing Status\", lines=2)\n",
        "\n",
        "        with gr.Column():\n",
        "            question_input = gr.Textbox(label=\"❓ Ask a Question\", placeholder=\"e.g. What was Amazon’s total revenue in Q3 2024?\")\n",
        "            ask_btn = gr.Button(\"🔍 Get Answer\")\n",
        "            answer_output = gr.Textbox(label=\"📢 Answer\", lines=10)\n",
        "\n",
        "    upload_btn.click(fn=upload_and_process, inputs=[file_input], outputs=[upload_output])\n",
        "    ask_btn.click(fn=ask_question, inputs=[question_input], outputs=[answer_output])\n",
        "\n",
        "demo.launch()\n"
      ]
    },
    {
      "cell_type": "code",
      "execution_count": null,
      "metadata": {
        "id": "swc0pM6P323s"
      },
      "outputs": [],
      "source": [
        "# Main execution logic\n",
        "if __name__ == \"__main__\":\n",
        "    # Load document\n",
        "    source = \"/content/amazon-10-q-q3-2024.pdf\"\n",
        "    markdown_content = load_and_convert_document(source)\n",
        "    chunks = get_markdown_splits(markdown_content)\n",
        "\n",
        "    # Create vector store\n",
        "    vector_store = setup_vector_store(chunks)\n",
        "\n",
        "    # Setup retriever\n",
        "    retriever = vector_store.as_retriever(search_type=\"mmr\", search_kwargs={'k': 3})\n",
        "\n",
        "    # Create RAG chain\n",
        "    rag_chain = create_rag_chain(retriever)\n",
        "\n",
        "    # Questions for retrieval\n",
        "    # Questions for retrieval (Amazon-specific)\n",
        "    questions = [\n",
        "    # Financial Performance\n",
        "    \"What was Amazon’s total revenue in Q3 2024?\",\n",
        "    \"How does the revenue in Q3 2024 compare to Q3 2023?\",\n",
        "    \"What was the net income for Q3 2024, and how does it compare year over year?\",\n",
        "    \"What were the earnings per share (basic and diluted) in Q3 2024?\",\n",
        "    \"How much did Amazon earn from product vs. service sales?\",\n",
        "    \"What were the main operating expense categories and their values in Q3 2024?\",\n",
        "    \"What was Amazon’s operating income in Q3 2024?\",\n",
        "\n",
        "    # Segment Analysis\n",
        "    \"What was the revenue and operating income for Amazon Web Services (AWS) in Q3 2024?\",\n",
        "    \"How did the North America and International segments perform in terms of revenue and profit?\",\n",
        "    \"Which segment contributed the most to Amazon’s operating income?\",\n",
        "\n",
        "    # Cash Flow & Capital Expenditures\n",
        "    \"How much cash did Amazon generate from operating activities?\",\n",
        "    \"What were the major uses of cash in investing and financing activities?\",\n",
        "    \"What were Amazon’s capital expenditures in Q3 2024?\",\n",
        "\n",
        "    # Debt and Liabilities\n",
        "    \"What is Amazon’s total long-term debt as of September 30, 2024?\",\n",
        "    \"What are the upcoming debt maturities and interest rates for Amazon's outstanding bonds?\",\n",
        "\n",
        "    # Stock & Shareholder Equity\n",
        "    \"What were the changes in stockholders’ equity this quarter?\",\n",
        "    \"Did Amazon repurchase any stock in Q3 2024?\",\n",
        "\n",
        "    # Other Financial Indicators\n",
        "    \"What are the values of accounts receivable, inventories, and marketable securities as of September 30, 2024?\",\n",
        "    \"What were Amazon’s total assets and liabilities?\",\n",
        "\n",
        "    # Legal and Regulatory\n",
        "    \"What major legal proceedings or lawsuits was Amazon involved in during Q3 2024?\",\n",
        "    \"What was the outcome of the Kove IO patent case?\",\n",
        "    \"Are there any significant antitrust or consumer protection investigations ongoing?\",\n",
        "\n",
        "    # Taxation and Accounting\n",
        "    \"What is Amazon’s effective tax rate for Q3 2024?\",\n",
        "    \"What discrete tax items impacted Amazon’s tax expense?\",\n",
        "    \"Are there any significant tax disputes or contingencies noted?\",\n",
        "\n",
        "    # Revenue Breakdown\n",
        "    \"What was the revenue breakdown by business line (Online stores, AWS, advertising, etc.)?\",\n",
        "    \"How did subscription services and advertising revenue perform compared to last year?\"\n",
        "]\n",
        "\n",
        "\n",
        "\n",
        "    # Answer questions\n",
        "    for question in questions:\n",
        "        print(f\"Question: {question}\")\n",
        "        for chunk in rag_chain.stream(question):\n",
        "            print(chunk, end=\"\", flush=True)\n",
        "        print(\"\\n\" + \"-\" * 50 + \"\\n\")\n"
      ]
    }
  ],
  "metadata": {
    "accelerator": "GPU",
    "colab": {
      "gpuType": "T4",
      "provenance": []
    },
    "kernelspec": {
      "display_name": "base",
      "language": "python",
      "name": "python3"
    },
    "language_info": {
      "codemirror_mode": {
        "name": "ipython",
        "version": 3
      },
      "file_extension": ".py",
      "mimetype": "text/x-python",
      "name": "python",
      "nbconvert_exporter": "python",
      "pygments_lexer": "ipython3",
      "version": "3.12.7"
    }
  },
  "nbformat": 4,
  "nbformat_minor": 0
}
